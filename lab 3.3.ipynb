{
  "nbformat": 4,
  "nbformat_minor": 0,
  "metadata": {
    "colab": {
      "provenance": [],
      "authorship_tag": "ABX9TyM/1MVglVfsjoILGXXjvQy7",
      "include_colab_link": true
    },
    "kernelspec": {
      "name": "python3",
      "display_name": "Python 3"
    },
    "language_info": {
      "name": "python"
    }
  },
  "cells": [
    {
      "cell_type": "markdown",
      "metadata": {
        "id": "view-in-github",
        "colab_type": "text"
      },
      "source": [
        "<a href=\"https://colab.research.google.com/github/Ridhvik-hr/Ridhvik/blob/main/lab%203.3.ipynb\" target=\"_parent\"><img src=\"https://colab.research.google.com/assets/colab-badge.svg\" alt=\"Open In Colab\"/></a>"
      ]
    },
    {
      "cell_type": "markdown",
      "source": [
        "Task 1 :\n",
        "•\tTry 3 different prompts to generate a factorial function.\n",
        "\n",
        "prompt:"
      ],
      "metadata": {
        "id": "atYFWvHdHREn"
      }
    },
    {
      "cell_type": "markdown",
      "metadata": {
        "id": "efa4dbed"
      },
      "source": [
        "## Prompt 1\n",
        "\n",
        "Generate a Python function that calculates the factorial of a non-negative integer using recursion."
      ]
    },
    {
      "cell_type": "code",
      "metadata": {
        "id": "2e95072d"
      },
      "source": [
        "def recursive_factorial(n):\n",
        "  \"\"\"Calculates the factorial of a non-negative integer using recursion.\"\"\"\n",
        "  if n == 0:\n",
        "    return 1\n",
        "  else:\n",
        "    return n * recursive_factorial(n-1)\n",
        "\n",
        "# Example usage\n",
        "print(recursive_factorial(5))"
      ],
      "execution_count": null,
      "outputs": []
    },
    {
      "cell_type": "markdown",
      "metadata": {
        "id": "12cb23e8"
      },
      "source": [
        "## Prompt 2\n",
        "\n",
        "Write a Python function to compute the factorial of a given number using a loop."
      ]
    },
    {
      "cell_type": "code",
      "metadata": {
        "id": "f7d2fd3f"
      },
      "source": [
        "def iterative_factorial(n):\n",
        "  \"\"\"Computes the factorial of a given number using a loop.\"\"\"\n",
        "  result = 1\n",
        "  for i in range(1, n + 1):\n",
        "    result *= i\n",
        "  return result\n",
        "\n",
        "# Example usage\n",
        "print(iterative_factorial(5))"
      ],
      "execution_count": null,
      "outputs": []
    },
    {
      "cell_type": "markdown",
      "metadata": {
        "id": "d07eddd1"
      },
      "source": [
        "## Prompt 3\n",
        "\n",
        "Create a Python function called `factorial` that takes an integer `n` as input and returns its factorial. Handle the case where `n` is negative by raising a `ValueError`."
      ]
    },
    {
      "cell_type": "code",
      "metadata": {
        "id": "ee6ceca9"
      },
      "source": [
        "def factorial(n):\n",
        "  \"\"\"Calculates the factorial of an integer n.\n",
        "\n",
        "  Args:\n",
        "    n: A non-negative integer.\n",
        "\n",
        "  Returns:\n",
        "    The factorial of n.\n",
        "\n",
        "  Raises:\n",
        "    ValueError: If n is a negative integer.\n",
        "  \"\"\"\n",
        "  if n < 0:\n",
        "    raise ValueError(\"Factorial is not defined for negative numbers\")\n",
        "  elif n == 0:\n",
        "    return 1\n",
        "  else:\n",
        "    result = 1\n",
        "    for i in range(1, n + 1):\n",
        "      result *= i\n",
        "    return result\n",
        "\n",
        "# Example usage\n",
        "print(factorial(5))\n",
        "# print(factorial(-1)) # Uncomment to test the ValueError"
      ],
      "execution_count": null,
      "outputs": []
    },
    {
      "cell_type": "markdown",
      "source": [
        "Explanation:\n",
        "\n",
        "This code defines a Python function called recursive_factorial that calculates the factorial of a non-negative integer using recursion.\n",
        "\n",
        "def recursive_factorial(n):: This line defines the function recursive_factorial that takes one argument, n.\n",
        "if n == 0:: This is the base case of the recursion. The factorial of 0 is defined as 1.\n",
        "return 1: If n is 0, the function returns 1.\n",
        "else:: This is the recursive step for n greater than 0.\n",
        "return n * recursive_factorial(n-1): The factorial of n is calculated as n multiplied by the factorial of n-1. The function calls itself with a smaller value of n until the base case (n == 0) is reached.\n",
        "print(recursive_factorial(5)): This line calls the function with the argument 5 and prints the returned value, which is the factorial of 5 (5 * 4 * 3 * 2 * 1 = 120).\n"
      ],
      "metadata": {
        "id": "ukHLnz7nQD5H"
      }
    },
    {
      "cell_type": "code",
      "source": [],
      "metadata": {
        "id": "Zk_PwYQnQKKH"
      },
      "execution_count": null,
      "outputs": []
    },
    {
      "cell_type": "markdown",
      "source": [
        "Task 2 :\n",
        "•\tProvide a clear example input-output prompt to generate a sorting function\n",
        "\n",
        "Prompt:\n",
        "\n"
      ],
      "metadata": {
        "id": "0XE6CqrUQRz_"
      }
    },
    {
      "cell_type": "markdown",
      "metadata": {
        "id": "bba71cbc"
      },
      "source": [
        "Provide a Python function that sorts a list of numbers in ascending order.\n",
        "\n",
        "Example Input:"
      ]
    },
    {
      "cell_type": "code",
      "metadata": {
        "id": "cc64ef9a"
      },
      "source": [
        "[3, 1, 4, 1, 5, 9, 2, 6]"
      ],
      "execution_count": null,
      "outputs": []
    },
    {
      "cell_type": "code",
      "metadata": {
        "id": "65a4e398"
      },
      "source": [
        "[1, 1, 2, 3, 4, 5, 6, 9]"
      ],
      "execution_count": null,
      "outputs": []
    },
    {
      "cell_type": "markdown",
      "source": [
        "Explanation:\n",
        "The selected cell contains a Python list: [3, 1, 4, 1, 5, 9, 2, 6]. This is the example input for the sorting function prompt. It's a list of numbers that are not in ascending order."
      ],
      "metadata": {
        "id": "MAVm_YqORKYV"
      }
    },
    {
      "cell_type": "code",
      "source": [],
      "metadata": {
        "id": "Gmz3mjE-RmnD"
      },
      "execution_count": null,
      "outputs": []
    },
    {
      "cell_type": "markdown",
      "source": [
        "Task 3:\n",
        "•\tStart with the vague prompt “Generate python code to calculate power bill” and improve it step-by-step"
      ],
      "metadata": {
        "id": "JQzyxPMmR9ko"
      }
    },
    {
      "cell_type": "markdown",
      "metadata": {
        "id": "c0d95e7d"
      },
      "source": [
        "**Step 1: Start with a vague prompt**\n",
        "\n",
        "Prompt: \"Generate python code to calculate power bill\""
      ]
    },
    {
      "cell_type": "code",
      "metadata": {
        "id": "945c612f"
      },
      "source": [
        "# Generated code based on the vague prompt \"Generate python code to calculate power bill\"\n",
        "\n",
        "def calculate_power_bill():\n",
        "  # This is a very basic placeholder.\n",
        "  # A real power bill calculation would require more information\n",
        "  # like electricity consumption, rates, taxes, etc.\n",
        "  print(\"This is a placeholder function to calculate a power bill.\")\n",
        "  print(\"More details are needed for a proper calculation.\")\n",
        "  pass\n",
        "\n",
        "calculate_power_bill()"
      ],
      "execution_count": null,
      "outputs": []
    },
    {
      "cell_type": "markdown",
      "source": [
        "Explanation:\n",
        "This code defines a very basic Python function called calculate_power_bill based on the vague prompt \"Generate python code to calculate power bill\".\n",
        "\n",
        "def calculate_power_bill():: This line defines the function calculate_power_bill which takes no arguments.\n",
        "# This is a very basic placeholder...: These are comments explaining that this is a placeholder and more information is needed for a real calculation.\n",
        "print(\"This is a placeholder function...\"): This line prints a message indicating that this is a placeholder function.\n",
        "print(\"More details are needed...\"): This line prints another message suggesting that more details are required for a proper calculation.\n",
        "pass: This is a Python statement that does nothing. It's used here as a placeholder for where the actual power bill calculation logic would go.\n",
        "calculate_power_bill(): This line calls the function to execute the code inside it.\n",
        "As the comments and print statements indicate, this generated code is just a starting point and highlights that the initial vague prompt was insufficient to create a functional power bill calculator.\n",
        "\n"
      ],
      "metadata": {
        "id": "PqLNna8sSU2I"
      }
    },
    {
      "cell_type": "code",
      "source": [],
      "metadata": {
        "id": "VNvgQnJhSdIQ"
      },
      "execution_count": null,
      "outputs": []
    },
    {
      "cell_type": "markdown",
      "source": [
        "Task 4:\n",
        "•\tWrite structured comments to help AI generate two linked functions (e.g., login_user() and register_user())."
      ],
      "metadata": {
        "id": "t05xCcUySfIn"
      }
    },
    {
      "cell_type": "markdown",
      "metadata": {
        "id": "0e0a7860"
      },
      "source": [
        "Task 4:\n",
        "•       Write structured comments to help AI generate two linked functions (e.g., login_user() and register_user())."
      ]
    },
    {
      "cell_type": "code",
      "metadata": {
        "id": "44053f35"
      },
      "source": [
        "# Function 1: Register User\n",
        "# This function should register a new user in the system.\n",
        "# It should take username and password as input.\n",
        "# It should check if the username already exists.\n",
        "# If the username exists, it should return an error message.\n",
        "# If the username does not exist, it should store the new user's credentials securely.\n",
        "# It should return a success message upon successful registration.\n",
        "def register_user(username, password):\n",
        "    pass # Placeholder for implementation\n",
        "\n",
        "# Function 2: Login User\n",
        "# This function should authenticate an existing user.\n",
        "# It should take username and password as input.\n",
        "# It should check if the provided username and password match a registered user.\n",
        "# It is linked to the register_user function as it operates on the user data created by it.\n",
        "# It should return a success message upon successful login.\n",
        "# It should return an error message for invalid credentials.\n",
        "def login_user(username, password):\n",
        "    pass # Placeholder for implementation"
      ],
      "execution_count": null,
      "outputs": []
    },
    {
      "cell_type": "markdown",
      "source": [
        "Explanation:\n",
        "Certainly. The selected code cell contains structured comments and function definitions for two linked Python functions: register_user and login_user.\n",
        "\n",
        "# Function 1: Register User and subsequent commented lines describe the purpose, inputs, checks, and expected outputs of the register_user function. This function is intended to handle the process of creating a new user account.\n",
        "def register_user(username, password):: This defines the register_user function which takes username and password as arguments. The pass statement is a placeholder and indicates where the actual implementation logic for user registration would be added.\n",
        "# Function 2: Login User and subsequent commented lines describe the purpose, inputs, checks, and expected outputs of the login_user function. This function is intended to handle the process of authenticating an existing user.\n",
        "It is linked to the register_user function...: This comment explicitly mentions the linkage between the two functions, indicating that login_user relies on the user data managed by register_user.\n",
        "def login_user(username, password):: This defines the login_user function which also takes username and password as arguments. The pass statement is a placeholder for the actual implementation logic for user login and authentication.\n",
        "These structured comments serve as clear instructions for an AI (or another developer) to understand the requirements and relationships between these two functions, making it easier to generate the actual code implementation.\n",
        "\n"
      ],
      "metadata": {
        "id": "g34Y6GJRTSzA"
      }
    },
    {
      "cell_type": "code",
      "source": [],
      "metadata": {
        "id": "MZt-1dFiTfOQ"
      },
      "execution_count": null,
      "outputs": []
    },
    {
      "cell_type": "markdown",
      "source": [
        "Task 5:•\tAnalyzing Prompt Specificity: Improving Temperature Conversion Function with Clear Instructions"
      ],
      "metadata": {
        "id": "7qyRHELQTkF3"
      }
    },
    {
      "cell_type": "markdown",
      "metadata": {
        "id": "a50298f4"
      },
      "source": [
        "# Task\n",
        "Analyze how prompt specificity affects the generated code for a temperature conversion function in Python. Start with a vague prompt, analyze the generated code, and then refine the prompt step-by-step, generating and analyzing the code at each stage to demonstrate the impact of clear instructions."
      ]
    },
    {
      "cell_type": "markdown",
      "metadata": {
        "id": "4c667223"
      },
      "source": [
        "## Start with a vague prompt for temperature conversion\n",
        "\n",
        "### Subtask:\n",
        "Generate Python code based on a vague prompt for a temperature conversion function.\n"
      ]
    },
    {
      "cell_type": "markdown",
      "metadata": {
        "id": "d2f7610a"
      },
      "source": [
        "**Reasoning**:\n",
        "The first step is to create a markdown cell with a vague prompt for generating a temperature conversion function.\n",
        "\n"
      ]
    },
    {
      "cell_type": "code",
      "metadata": {
        "colab": {
          "base_uri": "https://localhost:8080/",
          "height": 113
        },
        "id": "405fc3bb",
        "outputId": "a22304a5-96a9-4d19-bd7a-8f7e894b9a61"
      },
      "source": [
        "%%markdown\n",
        "Task 5: Analyzing Prompt Specificity\n",
        "\n",
        "## Step 1: Start with a vague prompt\n",
        "\n",
        "Prompt: \"Generate Python code for a temperature conversion function.\""
      ],
      "execution_count": 1,
      "outputs": [
        {
          "output_type": "display_data",
          "data": {
            "text/plain": [
              "<IPython.core.display.Markdown object>"
            ],
            "text/markdown": "Task 5: Analyzing Prompt Specificity\n\n## Step 1: Start with a vague prompt\n\nPrompt: \"Generate Python code for a temperature conversion function.\"\n"
          },
          "metadata": {}
        }
      ]
    },
    {
      "cell_type": "markdown",
      "metadata": {
        "id": "df4a355d"
      },
      "source": [
        "**Reasoning**:\n",
        "Now that the prompt is set, I will generate the Python code based on this vague prompt and add comments and an explanation as requested in the instructions.\n",
        "\n"
      ]
    },
    {
      "cell_type": "code",
      "metadata": {
        "colab": {
          "base_uri": "https://localhost:8080/"
        },
        "id": "ea500e7a",
        "outputId": "13894c33-7317-423e-e1d4-3461f63283b5"
      },
      "source": [
        "# Generated code based on the vague prompt \"Generate Python code for a temperature conversion function.\"\n",
        "\n",
        "def convert_temperature(temp):\n",
        "  # This is a very basic placeholder function.\n",
        "  # The prompt didn't specify units (Celsius, Fahrenheit, Kelvin)\n",
        "  # or the desired conversion direction.\n",
        "  print(f\"Converting temperature: {temp}\")\n",
        "  print(\"More specific instructions are needed for an actual conversion.\")\n",
        "  return temp\n",
        "\n",
        "# Example usage (will just print and return the input due to vagueness)\n",
        "convert_temperature(25)"
      ],
      "execution_count": 2,
      "outputs": [
        {
          "output_type": "stream",
          "name": "stdout",
          "text": [
            "Converting temperature: 25\n",
            "More specific instructions are needed for an actual conversion.\n"
          ]
        },
        {
          "output_type": "execute_result",
          "data": {
            "text/plain": [
              "25"
            ]
          },
          "metadata": {},
          "execution_count": 2
        }
      ]
    },
    {
      "cell_type": "markdown",
      "metadata": {
        "id": "7e92b85d"
      },
      "source": [
        "**Reasoning**:\n",
        "The code for the vague prompt has been generated. Now, I need to add an explanation in a markdown cell about the generated code and its limitations as the final step of this subtask.\n",
        "\n"
      ]
    },
    {
      "cell_type": "code",
      "metadata": {
        "colab": {
          "base_uri": "https://localhost:8080/",
          "height": 249
        },
        "id": "cd238dfe",
        "outputId": "49da457c-535e-4871-b019-e64e8b40689d"
      },
      "source": [
        "%%markdown\n",
        "Explanation:\n",
        "The generated code provides a very basic function `convert_temperature(temp)` based on the vague prompt \"Generate Python code for a temperature conversion function.\"\n",
        "\n",
        "`def convert_temperature(temp):`: This defines a function that takes one argument, `temp`.\n",
        "`# This is a very basic placeholder function...`: This comment highlights that the function is a placeholder due to the lack of specific instructions in the prompt. It points out that the prompt did not specify the temperature units or the desired conversion.\n",
        "`print(f\"Converting temperature: {temp}\")`: This line simply prints the input temperature, indicating that some action is being taken, but not an actual conversion.\n",
        "`print(\"More specific instructions are needed...\")`: This line further emphasizes the need for a more specific prompt to perform a meaningful conversion.\n",
        "`return temp`: The function simply returns the input value without any transformation.\n",
        "\n",
        "The example usage `convert_temperature(25)` demonstrates that the function currently just prints messages and returns the original input. This clearly shows the limitations of the generated code due to the vague prompt, as it cannot perform an actual temperature conversion without knowing the units and the target unit."
      ],
      "execution_count": 3,
      "outputs": [
        {
          "output_type": "display_data",
          "data": {
            "text/plain": [
              "<IPython.core.display.Markdown object>"
            ],
            "text/markdown": "Explanation:\nThe generated code provides a very basic function `convert_temperature(temp)` based on the vague prompt \"Generate Python code for a temperature conversion function.\"\n\n`def convert_temperature(temp):`: This defines a function that takes one argument, `temp`.\n`# This is a very basic placeholder function...`: This comment highlights that the function is a placeholder due to the lack of specific instructions in the prompt. It points out that the prompt did not specify the temperature units or the desired conversion.\n`print(f\"Converting temperature: {temp}\")`: This line simply prints the input temperature, indicating that some action is being taken, but not an actual conversion.\n`print(\"More specific instructions are needed...\")`: This line further emphasizes the need for a more specific prompt to perform a meaningful conversion.\n`return temp`: The function simply returns the input value without any transformation.\n\nThe example usage `convert_temperature(25)` demonstrates that the function currently just prints messages and returns the original input. This clearly shows the limitations of the generated code due to the vague prompt, as it cannot perform an actual temperature conversion without knowing the units and the target unit.\n"
          },
          "metadata": {}
        }
      ]
    },
    {
      "cell_type": "markdown",
      "metadata": {
        "id": "22df615c"
      },
      "source": [
        "## Analyze the generated code and identify areas for improvement\n",
        "\n",
        "### Subtask:\n",
        "Analyze the generated code to see what conversions are included and what is missing or unclear.\n"
      ]
    },
    {
      "cell_type": "markdown",
      "metadata": {
        "id": "98979e28"
      },
      "source": [
        "**Reasoning**:\n",
        "Analyze the previously generated `convert_temperature` function to identify its capabilities and limitations based on the vague prompt.\n",
        "\n"
      ]
    },
    {
      "cell_type": "code",
      "metadata": {
        "colab": {
          "base_uri": "https://localhost:8080/"
        },
        "id": "9a7dd216",
        "outputId": "f9eb069b-0334-4185-bc6e-dc6622b044fb"
      },
      "source": [
        "# Examine the generated code (which is already in the notebook's history)\n",
        "# def convert_temperature(temp):\n",
        "#   print(f\"Converting temperature: {temp}\")\n",
        "#   print(\"More specific instructions are needed for an actual conversion.\")\n",
        "#   return temp\n",
        "\n",
        "# Analysis:\n",
        "print(\"Analysis of the generated code for temperature conversion:\")\n",
        "\n",
        "# 2. Identify what kind of temperature conversions the function attempts to perform.\n",
        "print(\"\\nAttempted Conversions:\")\n",
        "print(\"The function does not attempt any specific temperature conversion (e.g., Celsius to Fahrenheit, etc.).\")\n",
        "print(\"It merely takes a temperature value as input and returns it without modification.\")\n",
        "\n",
        "# 3. Note what information is missing or unclear in the current code regarding the conversion process.\n",
        "print(\"\\nMissing/Unclear Information:\")\n",
        "print(\"- Input unit of the temperature is not specified (Celsius, Fahrenheit, Kelvin, etc.).\")\n",
        "print(\"- Desired output unit for the conversion is not specified.\")\n",
        "print(\"- No conversion formula is implemented.\")\n",
        "print(\"- There are no parameters or logic to handle different types of conversions.\")\n",
        "\n",
        "# 4. Summarize the limitations of the current code due to the vague prompt.\n",
        "print(\"\\nLimitations due to Vague Prompt:\")\n",
        "print(\"The vague prompt resulted in a placeholder function that cannot perform any actual temperature conversion.\")\n",
        "print(\"It lacks the necessary information (units, conversion type) to implement any conversion logic.\")\n",
        "print(\"The function is essentially non-functional for its intended purpose of converting temperatures.\")"
      ],
      "execution_count": 4,
      "outputs": [
        {
          "output_type": "stream",
          "name": "stdout",
          "text": [
            "Analysis of the generated code for temperature conversion:\n",
            "\n",
            "Attempted Conversions:\n",
            "The function does not attempt any specific temperature conversion (e.g., Celsius to Fahrenheit, etc.).\n",
            "It merely takes a temperature value as input and returns it without modification.\n",
            "\n",
            "Missing/Unclear Information:\n",
            "- Input unit of the temperature is not specified (Celsius, Fahrenheit, Kelvin, etc.).\n",
            "- Desired output unit for the conversion is not specified.\n",
            "- No conversion formula is implemented.\n",
            "- There are no parameters or logic to handle different types of conversions.\n",
            "\n",
            "Limitations due to Vague Prompt:\n",
            "The vague prompt resulted in a placeholder function that cannot perform any actual temperature conversion.\n",
            "It lacks the necessary information (units, conversion type) to implement any conversion logic.\n",
            "The function is essentially non-functional for its intended purpose of converting temperatures.\n"
          ]
        }
      ]
    },
    {
      "cell_type": "markdown",
      "metadata": {
        "id": "754c932e"
      },
      "source": [
        "## Refine the prompt with specific conversion requirements\n",
        "\n",
        "### Subtask:\n",
        "Improve the prompt by specifying the exact conversions needed (e.g., Celsius to Fahrenheit, Fahrenheit to Celsius).\n"
      ]
    },
    {
      "cell_type": "markdown",
      "metadata": {
        "id": "f8f1dee0"
      },
      "source": [
        "**Reasoning**:\n",
        "Create a markdown cell with a refined prompt specifying the exact temperature conversions needed.\n",
        "\n"
      ]
    },
    {
      "cell_type": "code",
      "metadata": {
        "colab": {
          "base_uri": "https://localhost:8080/",
          "height": 142
        },
        "id": "0eeaf9bb",
        "outputId": "e9bee9bf-0b17-49b8-a402-f4780b72bf3a"
      },
      "source": [
        "%%markdown\n",
        "## Step 2: Improve the prompt by specifying conversions\n",
        "\n",
        "Prompt: \"Generate a Python function `convert_temperature` that takes a temperature value and the original unit ('Celsius' or 'Fahrenheit') as input. The function should return the converted temperature and the target unit. If the input unit is 'Celsius', convert to 'Fahrenheit'. If the input unit is 'Fahrenheit', convert to 'Celsius'. Handle invalid unit inputs by raising a ValueError.\""
      ],
      "execution_count": 5,
      "outputs": [
        {
          "output_type": "display_data",
          "data": {
            "text/plain": [
              "<IPython.core.display.Markdown object>"
            ],
            "text/markdown": "## Step 2: Improve the prompt by specifying conversions\n\nPrompt: \"Generate a Python function `convert_temperature` that takes a temperature value and the original unit ('Celsius' or 'Fahrenheit') as input. The function should return the converted temperature and the target unit. If the input unit is 'Celsius', convert to 'Fahrenheit'. If the input unit is 'Fahrenheit', convert to 'Celsius'. Handle invalid unit inputs by raising a ValueError.\"\n"
          },
          "metadata": {}
        }
      ]
    },
    {
      "cell_type": "markdown",
      "metadata": {
        "id": "1efc65aa"
      },
      "source": [
        "## Generate code with the refined prompt\n",
        "\n",
        "### Subtask:\n",
        "Generate new Python code based on the improved prompt.\n"
      ]
    },
    {
      "cell_type": "markdown",
      "metadata": {
        "id": "1340ecac"
      },
      "source": [
        "**Reasoning**:\n",
        "Generate the Python code for the `convert_temperature` function based on the improved prompt, including docstrings and example usage.\n",
        "\n"
      ]
    },
    {
      "cell_type": "code",
      "metadata": {
        "colab": {
          "base_uri": "https://localhost:8080/"
        },
        "id": "a60f1254",
        "outputId": "bc656b39-8fd6-4003-b301-8afd880c35cc"
      },
      "source": [
        "def convert_temperature(temp, original_unit):\n",
        "  \"\"\"Converts a temperature between Celsius and Fahrenheit.\n",
        "\n",
        "  Args:\n",
        "    temp: The temperature value.\n",
        "    original_unit: The original unit of the temperature ('Celsius' or 'Fahrenheit').\n",
        "\n",
        "  Returns:\n",
        "    A tuple containing the converted temperature and the target unit ('Fahrenheit' or 'Celsius').\n",
        "\n",
        "  Raises:\n",
        "    ValueError: If original_unit is not 'Celsius' or 'Fahrenheit'.\n",
        "  \"\"\"\n",
        "  if original_unit == 'Celsius':\n",
        "    converted_temp = (temp * 9/5) + 32\n",
        "    target_unit = 'Fahrenheit'\n",
        "  elif original_unit == 'Fahrenheit':\n",
        "    converted_temp = (temp - 32) * 5/9\n",
        "    target_unit = 'Celsius'\n",
        "  else:\n",
        "    raise ValueError(\"Invalid unit. Please use 'Celsius' or 'Fahrenheit'.\")\n",
        "\n",
        "  return converted_temp, target_unit\n",
        "\n",
        "# Example usage\n",
        "celsius_temp = 25\n",
        "fahrenheit_temp, unit = convert_temperature(celsius_temp, 'Celsius')\n",
        "print(f\"{celsius_temp} Celsius is {fahrenheit_temp:.2f} {unit}\")\n",
        "\n",
        "fahrenheit_temp_2 = 77\n",
        "celsius_temp_2, unit_2 = convert_temperature(fahrenheit_temp_2, 'Fahrenheit')\n",
        "print(f\"{fahrenheit_temp_2} Fahrenheit is {celsius_temp_2:.2f} {unit_2}\")\n",
        "\n",
        "# Example of invalid unit (uncomment to test)\n",
        "# try:\n",
        "#     convert_temperature(100, 'Kelvin')\n",
        "# except ValueError as e:\n",
        "#     print(e)"
      ],
      "execution_count": 6,
      "outputs": [
        {
          "output_type": "stream",
          "name": "stdout",
          "text": [
            "25 Celsius is 77.00 Fahrenheit\n",
            "77 Fahrenheit is 25.00 Celsius\n"
          ]
        }
      ]
    },
    {
      "cell_type": "markdown",
      "metadata": {
        "id": "b4e1a16c"
      },
      "source": [
        "## Summary:\n",
        "\n",
        "### Data Analysis Key Findings\n",
        "\n",
        "*   A vague prompt for a temperature conversion function resulted in a placeholder function that did not perform any actual conversion and lacked necessary information like units or conversion type.\n",
        "*   Refining the prompt to explicitly specify conversions (Celsius to Fahrenheit, Fahrenheit to Celsius), input/output units, and error handling for invalid units led to the generation of a functional Python function `convert_temperature`.\n",
        "*   The generated code based on the refined prompt correctly implemented the conversion logic and included error handling for invalid unit inputs.\n",
        "\n",
        "### Insights or Next Steps\n",
        "\n",
        "*   Increased prompt specificity directly correlates with the accuracy and functionality of generated code, highlighting the importance of clear and detailed instructions.\n",
        "*   Further steps could involve expanding the function to handle more units (e.g., Kelvin) or adding error handling for non-numeric temperature inputs.\n"
      ]
    },
    {
      "cell_type": "code",
      "source": [],
      "metadata": {
        "id": "uMCGguLfUWl_"
      },
      "execution_count": null,
      "outputs": []
    },
    {
      "cell_type": "markdown",
      "source": [
        "Expalnation:\n",
        "This code defines a Python function called convert_temperature that converts a temperature value between Celsius and Fahrenheit based on the specified original unit.\n",
        "\n",
        "def convert_temperature(temp, original_unit):: This line defines the function convert_temperature that takes two arguments: temp (the temperature value) and original_unit (a string indicating the unit of the input temperature, expected to be 'Celsius' or 'Fahrenheit').\n",
        "\"\"\"Converts a temperature between Celsius and Fahrenheit...\"\"\": This is a docstring that explains what the function does, its arguments, what it returns, and the possible errors it might raise.\n",
        "if original_unit == 'Celsius':: This checks if the original unit is 'Celsius'.\n",
        "converted_temp = (temp * 9/5) + 32: If the original unit is Celsius, this line calculates the equivalent temperature in Fahrenheit using the conversion formula.\n",
        "target_unit = 'Fahrenheit': The target unit is set to 'Fahrenheit'.\n",
        "elif original_unit == 'Fahrenheit':: This checks if the original unit is 'Fahrenheit'.\n",
        "converted_temp = (temp - 32) * 5/9: If the original unit is Fahrenheit, this line calculates the equivalent temperature in Celsius using the conversion formula.\n",
        "target_unit = 'Celsius': The target unit is set to 'Celsius'.\n",
        "else:: If the original_unit is neither 'Celsius' nor 'Fahrenheit'.\n",
        "raise ValueError(\"Invalid unit. Please use 'Celsius' or 'Fahrenheit'.\"): A ValueError is raised with an informative message, indicating that the provided unit is not supported.\n",
        "return converted_temp, target_unit: The function returns a tuple containing the calculated converted_temp and the target_unit.\n",
        "The example usage lines demonstrate how to call the function with Celsius and Fahrenheit inputs and print the converted temperatures. The commented-out try...except block shows how to test the error handling for invalid units.\n",
        "\n"
      ],
      "metadata": {
        "id": "GKw4JEgOUY0Q"
      }
    },
    {
      "cell_type": "code",
      "source": [],
      "metadata": {
        "id": "bIrAel6SUeqY"
      },
      "execution_count": null,
      "outputs": []
    },
    {
      "cell_type": "markdown",
      "source": [],
      "metadata": {
        "id": "AZFx_g-4UgEn"
      }
    }
  ]
}